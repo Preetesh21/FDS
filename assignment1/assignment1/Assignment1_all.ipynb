{
 "cells": [
  {
   "cell_type": "markdown",
   "metadata": {},
   "source": [
    "# ASSIGNMENT 1\n",
    "#Name--Preetesh Verma\n",
    "#Entry Number--2018eeb1171"
   ]
  },
  {
   "cell_type": "code",
   "execution_count": 2,
   "metadata": {},
   "outputs": [],
   "source": [
    "# importing the libraries\n",
    "import numpy as np\n",
    "import matplotlib.pyplot as plt\n",
    "import pandas as pd"
   ]
  },
  {
   "cell_type": "code",
   "execution_count": 3,
   "metadata": {},
   "outputs": [],
   "source": [
    "import sklearn"
   ]
  },
  {
   "cell_type": "code",
   "execution_count": 4,
   "metadata": {},
   "outputs": [],
   "source": [
    "# including the dataset\n",
    "from sklearn.datasets import load_boston"
   ]
  },
  {
   "cell_type": "code",
   "execution_count": 5,
   "metadata": {},
   "outputs": [],
   "source": [
    "house_price = load_boston()"
   ]
  },
  {
   "cell_type": "code",
   "execution_count": 6,
   "metadata": {},
   "outputs": [],
   "source": [
    "# converting the dataset into a dataframe\n",
    "df=pd.DataFrame(house_price.data,columns=house_price.feature_names)"
   ]
  },
  {
   "cell_type": "code",
   "execution_count": 7,
   "metadata": {},
   "outputs": [
    {
     "data": {
      "text/html": [
       "<div>\n",
       "<style scoped>\n",
       "    .dataframe tbody tr th:only-of-type {\n",
       "        vertical-align: middle;\n",
       "    }\n",
       "\n",
       "    .dataframe tbody tr th {\n",
       "        vertical-align: top;\n",
       "    }\n",
       "\n",
       "    .dataframe thead th {\n",
       "        text-align: right;\n",
       "    }\n",
       "</style>\n",
       "<table border=\"1\" class=\"dataframe\">\n",
       "  <thead>\n",
       "    <tr style=\"text-align: right;\">\n",
       "      <th></th>\n",
       "      <th>CRIM</th>\n",
       "      <th>ZN</th>\n",
       "      <th>INDUS</th>\n",
       "      <th>CHAS</th>\n",
       "      <th>NOX</th>\n",
       "      <th>RM</th>\n",
       "      <th>AGE</th>\n",
       "      <th>DIS</th>\n",
       "      <th>RAD</th>\n",
       "      <th>TAX</th>\n",
       "      <th>PTRATIO</th>\n",
       "      <th>B</th>\n",
       "      <th>LSTAT</th>\n",
       "    </tr>\n",
       "  </thead>\n",
       "  <tbody>\n",
       "    <tr>\n",
       "      <td>0</td>\n",
       "      <td>0.00632</td>\n",
       "      <td>18.0</td>\n",
       "      <td>2.31</td>\n",
       "      <td>0.0</td>\n",
       "      <td>0.538</td>\n",
       "      <td>6.575</td>\n",
       "      <td>65.2</td>\n",
       "      <td>4.0900</td>\n",
       "      <td>1.0</td>\n",
       "      <td>296.0</td>\n",
       "      <td>15.3</td>\n",
       "      <td>396.90</td>\n",
       "      <td>4.98</td>\n",
       "    </tr>\n",
       "    <tr>\n",
       "      <td>1</td>\n",
       "      <td>0.02731</td>\n",
       "      <td>0.0</td>\n",
       "      <td>7.07</td>\n",
       "      <td>0.0</td>\n",
       "      <td>0.469</td>\n",
       "      <td>6.421</td>\n",
       "      <td>78.9</td>\n",
       "      <td>4.9671</td>\n",
       "      <td>2.0</td>\n",
       "      <td>242.0</td>\n",
       "      <td>17.8</td>\n",
       "      <td>396.90</td>\n",
       "      <td>9.14</td>\n",
       "    </tr>\n",
       "    <tr>\n",
       "      <td>2</td>\n",
       "      <td>0.02729</td>\n",
       "      <td>0.0</td>\n",
       "      <td>7.07</td>\n",
       "      <td>0.0</td>\n",
       "      <td>0.469</td>\n",
       "      <td>7.185</td>\n",
       "      <td>61.1</td>\n",
       "      <td>4.9671</td>\n",
       "      <td>2.0</td>\n",
       "      <td>242.0</td>\n",
       "      <td>17.8</td>\n",
       "      <td>392.83</td>\n",
       "      <td>4.03</td>\n",
       "    </tr>\n",
       "    <tr>\n",
       "      <td>3</td>\n",
       "      <td>0.03237</td>\n",
       "      <td>0.0</td>\n",
       "      <td>2.18</td>\n",
       "      <td>0.0</td>\n",
       "      <td>0.458</td>\n",
       "      <td>6.998</td>\n",
       "      <td>45.8</td>\n",
       "      <td>6.0622</td>\n",
       "      <td>3.0</td>\n",
       "      <td>222.0</td>\n",
       "      <td>18.7</td>\n",
       "      <td>394.63</td>\n",
       "      <td>2.94</td>\n",
       "    </tr>\n",
       "    <tr>\n",
       "      <td>4</td>\n",
       "      <td>0.06905</td>\n",
       "      <td>0.0</td>\n",
       "      <td>2.18</td>\n",
       "      <td>0.0</td>\n",
       "      <td>0.458</td>\n",
       "      <td>7.147</td>\n",
       "      <td>54.2</td>\n",
       "      <td>6.0622</td>\n",
       "      <td>3.0</td>\n",
       "      <td>222.0</td>\n",
       "      <td>18.7</td>\n",
       "      <td>396.90</td>\n",
       "      <td>5.33</td>\n",
       "    </tr>\n",
       "  </tbody>\n",
       "</table>\n",
       "</div>"
      ],
      "text/plain": [
       "      CRIM    ZN  INDUS  CHAS    NOX     RM   AGE     DIS  RAD    TAX  \\\n",
       "0  0.00632  18.0   2.31   0.0  0.538  6.575  65.2  4.0900  1.0  296.0   \n",
       "1  0.02731   0.0   7.07   0.0  0.469  6.421  78.9  4.9671  2.0  242.0   \n",
       "2  0.02729   0.0   7.07   0.0  0.469  7.185  61.1  4.9671  2.0  242.0   \n",
       "3  0.03237   0.0   2.18   0.0  0.458  6.998  45.8  6.0622  3.0  222.0   \n",
       "4  0.06905   0.0   2.18   0.0  0.458  7.147  54.2  6.0622  3.0  222.0   \n",
       "\n",
       "   PTRATIO       B  LSTAT  \n",
       "0     15.3  396.90   4.98  \n",
       "1     17.8  396.90   9.14  \n",
       "2     17.8  392.83   4.03  \n",
       "3     18.7  394.63   2.94  \n",
       "4     18.7  396.90   5.33  "
      ]
     },
     "execution_count": 7,
     "metadata": {},
     "output_type": "execute_result"
    }
   ],
   "source": [
    "df.head()"
   ]
  },
  {
   "cell_type": "code",
   "execution_count": 8,
   "metadata": {},
   "outputs": [
    {
     "data": {
      "text/html": [
       "<div>\n",
       "<style scoped>\n",
       "    .dataframe tbody tr th:only-of-type {\n",
       "        vertical-align: middle;\n",
       "    }\n",
       "\n",
       "    .dataframe tbody tr th {\n",
       "        vertical-align: top;\n",
       "    }\n",
       "\n",
       "    .dataframe thead th {\n",
       "        text-align: right;\n",
       "    }\n",
       "</style>\n",
       "<table border=\"1\" class=\"dataframe\">\n",
       "  <thead>\n",
       "    <tr style=\"text-align: right;\">\n",
       "      <th></th>\n",
       "      <th>CRIM</th>\n",
       "      <th>ZN</th>\n",
       "      <th>INDUS</th>\n",
       "      <th>CHAS</th>\n",
       "      <th>NOX</th>\n",
       "      <th>RM</th>\n",
       "      <th>AGE</th>\n",
       "      <th>DIS</th>\n",
       "      <th>RAD</th>\n",
       "      <th>TAX</th>\n",
       "      <th>PTRATIO</th>\n",
       "      <th>B</th>\n",
       "      <th>LSTAT</th>\n",
       "    </tr>\n",
       "  </thead>\n",
       "  <tbody>\n",
       "    <tr>\n",
       "      <td>count</td>\n",
       "      <td>506.000000</td>\n",
       "      <td>506.000000</td>\n",
       "      <td>506.000000</td>\n",
       "      <td>506.000000</td>\n",
       "      <td>506.000000</td>\n",
       "      <td>506.000000</td>\n",
       "      <td>506.000000</td>\n",
       "      <td>506.000000</td>\n",
       "      <td>506.000000</td>\n",
       "      <td>506.000000</td>\n",
       "      <td>506.000000</td>\n",
       "      <td>506.000000</td>\n",
       "      <td>506.000000</td>\n",
       "    </tr>\n",
       "    <tr>\n",
       "      <td>mean</td>\n",
       "      <td>3.613524</td>\n",
       "      <td>11.363636</td>\n",
       "      <td>11.136779</td>\n",
       "      <td>0.069170</td>\n",
       "      <td>0.554695</td>\n",
       "      <td>6.284634</td>\n",
       "      <td>68.574901</td>\n",
       "      <td>3.795043</td>\n",
       "      <td>9.549407</td>\n",
       "      <td>408.237154</td>\n",
       "      <td>18.455534</td>\n",
       "      <td>356.674032</td>\n",
       "      <td>12.653063</td>\n",
       "    </tr>\n",
       "    <tr>\n",
       "      <td>std</td>\n",
       "      <td>8.601545</td>\n",
       "      <td>23.322453</td>\n",
       "      <td>6.860353</td>\n",
       "      <td>0.253994</td>\n",
       "      <td>0.115878</td>\n",
       "      <td>0.702617</td>\n",
       "      <td>28.148861</td>\n",
       "      <td>2.105710</td>\n",
       "      <td>8.707259</td>\n",
       "      <td>168.537116</td>\n",
       "      <td>2.164946</td>\n",
       "      <td>91.294864</td>\n",
       "      <td>7.141062</td>\n",
       "    </tr>\n",
       "    <tr>\n",
       "      <td>min</td>\n",
       "      <td>0.006320</td>\n",
       "      <td>0.000000</td>\n",
       "      <td>0.460000</td>\n",
       "      <td>0.000000</td>\n",
       "      <td>0.385000</td>\n",
       "      <td>3.561000</td>\n",
       "      <td>2.900000</td>\n",
       "      <td>1.129600</td>\n",
       "      <td>1.000000</td>\n",
       "      <td>187.000000</td>\n",
       "      <td>12.600000</td>\n",
       "      <td>0.320000</td>\n",
       "      <td>1.730000</td>\n",
       "    </tr>\n",
       "    <tr>\n",
       "      <td>25%</td>\n",
       "      <td>0.082045</td>\n",
       "      <td>0.000000</td>\n",
       "      <td>5.190000</td>\n",
       "      <td>0.000000</td>\n",
       "      <td>0.449000</td>\n",
       "      <td>5.885500</td>\n",
       "      <td>45.025000</td>\n",
       "      <td>2.100175</td>\n",
       "      <td>4.000000</td>\n",
       "      <td>279.000000</td>\n",
       "      <td>17.400000</td>\n",
       "      <td>375.377500</td>\n",
       "      <td>6.950000</td>\n",
       "    </tr>\n",
       "    <tr>\n",
       "      <td>50%</td>\n",
       "      <td>0.256510</td>\n",
       "      <td>0.000000</td>\n",
       "      <td>9.690000</td>\n",
       "      <td>0.000000</td>\n",
       "      <td>0.538000</td>\n",
       "      <td>6.208500</td>\n",
       "      <td>77.500000</td>\n",
       "      <td>3.207450</td>\n",
       "      <td>5.000000</td>\n",
       "      <td>330.000000</td>\n",
       "      <td>19.050000</td>\n",
       "      <td>391.440000</td>\n",
       "      <td>11.360000</td>\n",
       "    </tr>\n",
       "    <tr>\n",
       "      <td>75%</td>\n",
       "      <td>3.677083</td>\n",
       "      <td>12.500000</td>\n",
       "      <td>18.100000</td>\n",
       "      <td>0.000000</td>\n",
       "      <td>0.624000</td>\n",
       "      <td>6.623500</td>\n",
       "      <td>94.075000</td>\n",
       "      <td>5.188425</td>\n",
       "      <td>24.000000</td>\n",
       "      <td>666.000000</td>\n",
       "      <td>20.200000</td>\n",
       "      <td>396.225000</td>\n",
       "      <td>16.955000</td>\n",
       "    </tr>\n",
       "    <tr>\n",
       "      <td>max</td>\n",
       "      <td>88.976200</td>\n",
       "      <td>100.000000</td>\n",
       "      <td>27.740000</td>\n",
       "      <td>1.000000</td>\n",
       "      <td>0.871000</td>\n",
       "      <td>8.780000</td>\n",
       "      <td>100.000000</td>\n",
       "      <td>12.126500</td>\n",
       "      <td>24.000000</td>\n",
       "      <td>711.000000</td>\n",
       "      <td>22.000000</td>\n",
       "      <td>396.900000</td>\n",
       "      <td>37.970000</td>\n",
       "    </tr>\n",
       "  </tbody>\n",
       "</table>\n",
       "</div>"
      ],
      "text/plain": [
       "             CRIM          ZN       INDUS        CHAS         NOX          RM  \\\n",
       "count  506.000000  506.000000  506.000000  506.000000  506.000000  506.000000   \n",
       "mean     3.613524   11.363636   11.136779    0.069170    0.554695    6.284634   \n",
       "std      8.601545   23.322453    6.860353    0.253994    0.115878    0.702617   \n",
       "min      0.006320    0.000000    0.460000    0.000000    0.385000    3.561000   \n",
       "25%      0.082045    0.000000    5.190000    0.000000    0.449000    5.885500   \n",
       "50%      0.256510    0.000000    9.690000    0.000000    0.538000    6.208500   \n",
       "75%      3.677083   12.500000   18.100000    0.000000    0.624000    6.623500   \n",
       "max     88.976200  100.000000   27.740000    1.000000    0.871000    8.780000   \n",
       "\n",
       "              AGE         DIS         RAD         TAX     PTRATIO           B  \\\n",
       "count  506.000000  506.000000  506.000000  506.000000  506.000000  506.000000   \n",
       "mean    68.574901    3.795043    9.549407  408.237154   18.455534  356.674032   \n",
       "std     28.148861    2.105710    8.707259  168.537116    2.164946   91.294864   \n",
       "min      2.900000    1.129600    1.000000  187.000000   12.600000    0.320000   \n",
       "25%     45.025000    2.100175    4.000000  279.000000   17.400000  375.377500   \n",
       "50%     77.500000    3.207450    5.000000  330.000000   19.050000  391.440000   \n",
       "75%     94.075000    5.188425   24.000000  666.000000   20.200000  396.225000   \n",
       "max    100.000000   12.126500   24.000000  711.000000   22.000000  396.900000   \n",
       "\n",
       "            LSTAT  \n",
       "count  506.000000  \n",
       "mean    12.653063  \n",
       "std      7.141062  \n",
       "min      1.730000  \n",
       "25%      6.950000  \n",
       "50%     11.360000  \n",
       "75%     16.955000  \n",
       "max     37.970000  "
      ]
     },
     "execution_count": 8,
     "metadata": {},
     "output_type": "execute_result"
    }
   ],
   "source": [
    "df.describe()"
   ]
  },
  {
   "cell_type": "code",
   "execution_count": 9,
   "metadata": {},
   "outputs": [],
   "source": [
    "df['PRICE'] = house_price.target"
   ]
  },
  {
   "cell_type": "code",
   "execution_count": 10,
   "metadata": {},
   "outputs": [
    {
     "data": {
      "text/plain": [
       "0      24.0\n",
       "1      21.6\n",
       "2      34.7\n",
       "3      33.4\n",
       "4      36.2\n",
       "       ... \n",
       "501    22.4\n",
       "502    20.6\n",
       "503    23.9\n",
       "504    22.0\n",
       "505    11.9\n",
       "Name: PRICE, Length: 506, dtype: float64"
      ]
     },
     "execution_count": 10,
     "metadata": {},
     "output_type": "execute_result"
    }
   ],
   "source": [
    "df['PRICE']"
   ]
  },
  {
   "cell_type": "code",
   "execution_count": 11,
   "metadata": {},
   "outputs": [],
   "source": [
    "from sklearn.model_selection import train_test_split"
   ]
  },
  {
   "cell_type": "code",
   "execution_count": 12,
   "metadata": {},
   "outputs": [],
   "source": [
    "# splitting the dataset into training and test sets with 7:3 ratio along with randomly shuffling\n",
    "X_train, X_test, y_train, y_test = train_test_split(df, df['PRICE'], test_size=0.30, random_state=42)"
   ]
  },
  {
   "cell_type": "code",
   "execution_count": 13,
   "metadata": {},
   "outputs": [
    {
     "name": "stdout",
     "output_type": "stream",
     "text": [
      "(354, 14)\n",
      "(152, 14)\n",
      "(152,)\n",
      "(354,)\n"
     ]
    }
   ],
   "source": [
    "# checking the shapes of the formed training and tests sets\n",
    "print(X_train.shape)\n",
    "print(X_test.shape)\n",
    "print(y_test.shape)\n",
    "print(y_train.shape)"
   ]
  },
  {
   "cell_type": "code",
   "execution_count": 14,
   "metadata": {},
   "outputs": [
    {
     "data": {
      "text/plain": [
       "5      28.7\n",
       "116    21.2\n",
       "45     19.3\n",
       "16     23.1\n",
       "468    19.1\n",
       "Name: PRICE, dtype: float64"
      ]
     },
     "execution_count": 14,
     "metadata": {},
     "output_type": "execute_result"
    }
   ],
   "source": [
    "y_train.head()"
   ]
  },
  {
   "cell_type": "code",
   "execution_count": 15,
   "metadata": {},
   "outputs": [
    {
     "data": {
      "text/html": [
       "<div>\n",
       "<style scoped>\n",
       "    .dataframe tbody tr th:only-of-type {\n",
       "        vertical-align: middle;\n",
       "    }\n",
       "\n",
       "    .dataframe tbody tr th {\n",
       "        vertical-align: top;\n",
       "    }\n",
       "\n",
       "    .dataframe thead th {\n",
       "        text-align: right;\n",
       "    }\n",
       "</style>\n",
       "<table border=\"1\" class=\"dataframe\">\n",
       "  <thead>\n",
       "    <tr style=\"text-align: right;\">\n",
       "      <th></th>\n",
       "      <th>PRICE</th>\n",
       "    </tr>\n",
       "  </thead>\n",
       "  <tbody>\n",
       "    <tr>\n",
       "      <td>173</td>\n",
       "      <td>23.6</td>\n",
       "    </tr>\n",
       "    <tr>\n",
       "      <td>274</td>\n",
       "      <td>32.4</td>\n",
       "    </tr>\n",
       "    <tr>\n",
       "      <td>491</td>\n",
       "      <td>13.6</td>\n",
       "    </tr>\n",
       "    <tr>\n",
       "      <td>72</td>\n",
       "      <td>22.8</td>\n",
       "    </tr>\n",
       "    <tr>\n",
       "      <td>452</td>\n",
       "      <td>16.1</td>\n",
       "    </tr>\n",
       "    <tr>\n",
       "      <td>...</td>\n",
       "      <td>...</td>\n",
       "    </tr>\n",
       "    <tr>\n",
       "      <td>441</td>\n",
       "      <td>17.1</td>\n",
       "    </tr>\n",
       "    <tr>\n",
       "      <td>23</td>\n",
       "      <td>14.5</td>\n",
       "    </tr>\n",
       "    <tr>\n",
       "      <td>225</td>\n",
       "      <td>50.0</td>\n",
       "    </tr>\n",
       "    <tr>\n",
       "      <td>433</td>\n",
       "      <td>14.3</td>\n",
       "    </tr>\n",
       "    <tr>\n",
       "      <td>447</td>\n",
       "      <td>12.6</td>\n",
       "    </tr>\n",
       "  </tbody>\n",
       "</table>\n",
       "<p>152 rows × 1 columns</p>\n",
       "</div>"
      ],
      "text/plain": [
       "     PRICE\n",
       "173   23.6\n",
       "274   32.4\n",
       "491   13.6\n",
       "72    22.8\n",
       "452   16.1\n",
       "..     ...\n",
       "441   17.1\n",
       "23    14.5\n",
       "225   50.0\n",
       "433   14.3\n",
       "447   12.6\n",
       "\n",
       "[152 rows x 1 columns]"
      ]
     },
     "execution_count": 15,
     "metadata": {},
     "output_type": "execute_result"
    }
   ],
   "source": [
    "y_train.to_frame() \n",
    "y_test.to_frame()"
   ]
  },
  {
   "cell_type": "code",
   "execution_count": 16,
   "metadata": {},
   "outputs": [
    {
     "data": {
      "text/plain": [
       "(354, 14)"
      ]
     },
     "execution_count": 16,
     "metadata": {},
     "output_type": "execute_result"
    }
   ],
   "source": [
    "X_train.head()\n",
    "X_train.shape"
   ]
  },
  {
   "cell_type": "code",
   "execution_count": 17,
   "metadata": {},
   "outputs": [
    {
     "data": {
      "text/plain": [
       "(152, 13)"
      ]
     },
     "execution_count": 17,
     "metadata": {},
     "output_type": "execute_result"
    }
   ],
   "source": [
    "# deleting the Price Column from the training part as it is the Output variable\n",
    "del X_train['PRICE']\n",
    "X_train.shape\n",
    "del X_test['PRICE']\n",
    "X_test.shape"
   ]
  },
  {
   "cell_type": "markdown",
   "metadata": {},
   "source": [
    "## Task 1"
   ]
  },
  {
   "cell_type": "code",
   "execution_count": 18,
   "metadata": {},
   "outputs": [],
   "source": [
    "from sklearn.linear_model import LinearRegression"
   ]
  },
  {
   "cell_type": "code",
   "execution_count": 19,
   "metadata": {},
   "outputs": [],
   "source": [
    "# normal linear REgression\n",
    "reg=LinearRegression().fit(X_train,y_train)"
   ]
  },
  {
   "cell_type": "code",
   "execution_count": 20,
   "metadata": {},
   "outputs": [
    {
     "name": "stdout",
     "output_type": "stream",
     "text": [
      "[-1.33470103e-01  3.58089136e-02  4.95226452e-02  3.11983512e+00\n",
      " -1.54170609e+01  4.05719923e+00 -1.08208352e-02 -1.38599824e+00\n",
      "  2.42727340e-01 -8.70223437e-03 -9.10685208e-01  1.17941159e-02\n",
      " -5.47113313e-01]\n",
      "31.63108403569186\n"
     ]
    }
   ],
   "source": [
    "print(reg.coef_)\n",
    "print(reg.intercept_)"
   ]
  },
  {
   "cell_type": "code",
   "execution_count": 21,
   "metadata": {},
   "outputs": [
    {
     "data": {
      "text/plain": [
       "Index(['CRIM', 'ZN', 'INDUS', 'CHAS', 'NOX', 'RM', 'AGE', 'DIS', 'RAD', 'TAX',\n",
       "       'PTRATIO', 'B', 'LSTAT'],\n",
       "      dtype='object')"
      ]
     },
     "execution_count": 21,
     "metadata": {},
     "output_type": "execute_result"
    }
   ],
   "source": [
    "predictor_variables=X_train.columns\n",
    "predictor_variables"
   ]
  },
  {
   "cell_type": "code",
   "execution_count": 22,
   "metadata": {},
   "outputs": [
    {
     "data": {
      "image/png": "[encoded data removed]",
      "text/plain": [
       "<Figure size 432x288 with 1 Axes>"
      ]
     },
     "metadata": {
      "needs_background": "light"
     },
     "output_type": "display_data"
    }
   ],
   "source": [
    "# plotting the BAR Graphs for the independent variables and their regression coefficients\n",
    "fig=plt.figure()\n",
    "graph=fig.add_axes([0,0,1,1])\n",
    "graph.bar(predictor_variables,reg.coef_)\n",
    "plt.title('Regression_coef')\n",
    "plt.ylabel('values')\n",
    "plt.xlabel('Predictor_variables')\n",
    "plt.show()"
   ]
  },
  {
   "cell_type": "markdown",
   "metadata": {},
   "source": [
    "## Task 3"
   ]
  },
  {
   "cell_type": "code",
   "execution_count": 23,
   "metadata": {},
   "outputs": [],
   "source": [
    "from sklearn.linear_model import Lasso"
   ]
  },
  {
   "cell_type": "code",
   "execution_count": 24,
   "metadata": {},
   "outputs": [
    {
     "data": {
      "text/plain": [
       "(354, 13)"
      ]
     },
     "execution_count": 24,
     "metadata": {},
     "output_type": "execute_result"
    }
   ],
   "source": [
    "# room, residential zone, highway access, crime rate and tax\n",
    "new_X_train=X_train\n",
    "new_X_test=X_test\n",
    "new_X_train.shape"
   ]
  },
  {
   "cell_type": "code",
   "execution_count": 25,
   "metadata": {},
   "outputs": [
    {
     "name": "stderr",
     "output_type": "stream",
     "text": [
      "C:\\Anaconda\\anaconda3\\lib\\site-packages\\ipykernel_launcher.py:11: UserWarning: With alpha=0, this algorithm does not converge well. You are advised to use the LinearRegression estimator\n",
      "  # This is added back by InteractiveShellApp.init_path()\n",
      "C:\\Anaconda\\anaconda3\\lib\\site-packages\\sklearn\\linear_model\\coordinate_descent.py:475: UserWarning: Coordinate descent with no regularization may lead to unexpected results and is discouraged.\n",
      "  positive)\n",
      "C:\\Anaconda\\anaconda3\\lib\\site-packages\\sklearn\\linear_model\\coordinate_descent.py:475: ConvergenceWarning: Objective did not converge. You might want to increase the number of iterations. Duality gap: 3990.550223273617, tolerance: 3.111537141242938\n",
      "  positive)\n",
      "C:\\Anaconda\\anaconda3\\lib\\site-packages\\ipykernel_launcher.py:19: UserWarning: With alpha=0, this algorithm does not converge well. You are advised to use the LinearRegression estimator\n",
      "C:\\Anaconda\\anaconda3\\lib\\site-packages\\sklearn\\linear_model\\coordinate_descent.py:475: UserWarning: Coordinate descent with no regularization may lead to unexpected results and is discouraged.\n",
      "  positive)\n",
      "C:\\Anaconda\\anaconda3\\lib\\site-packages\\sklearn\\linear_model\\coordinate_descent.py:475: ConvergenceWarning: Objective did not converge. You might want to increase the number of iterations. Duality gap: 1374.8627340141431, tolerance: 1.132599052631579\n",
      "  positive)\n"
     ]
    },
    {
     "name": "stdout",
     "output_type": "stream",
     "text": [
      "(200, 13)\n"
     ]
    }
   ],
   "source": [
    "df=pd.DataFrame()\n",
    "ls=[]\n",
    "residualsLasso=[]\n",
    "residuals_lasso_full=[]\n",
    "residuals_lasso_full=[]\n",
    "alpha=0\n",
    "# for 0-200 values of alpha\n",
    "for i in range(200):\n",
    "    clf = Lasso(alpha)\n",
    "    # fitting the New_X_train dataset with Lasso.\n",
    "    clf.fit(new_X_train,y_train)\n",
    "    predictions=clf.predict(new_X_train)\n",
    "    # computing the residuals and storing in list.\n",
    "    residualsLasso.append(predictions-y_train)\n",
    "    ls.append(clf.coef_)\n",
    "    myarray = np.asarray(clf.coef_)\n",
    "    myarray.transpose()\n",
    "    # fitting and predicting the Lasso Model on X_test as well for all the 200 alpha values.\n",
    "    clf.fit(X_test,y_test)\n",
    "    predictions1=clf.predict(X_test)\n",
    "#     # computing the residuals and storing in list.\n",
    "    residuals_lasso_full.append(predictions1-y_test)\n",
    "    alpha=alpha+1\n",
    "print(np.shape(ls))"
   ]
  },
  {
   "cell_type": "code",
   "execution_count": 26,
   "metadata": {},
   "outputs": [],
   "source": [
    "# residuals_lasso_full=[]\n",
    "# # alpha=0\n",
    "# # for 0-200 values of alpha\n",
    "# for i in range(200):\n",
    "#     clf_a = Lasso(alpha)\n",
    "#     # fitting and predicting the Lasso Model on X_test as well for all the 200 alpha values.\n",
    "#     clf_a.fit(X_test,y_test)\n",
    "#     predictions=clf_a.predict(X_test)\n",
    "#      # computing the residuals and storing in list.\n",
    "#     residuals_lasso_full.append(predictions-y_test)\n",
    "#     alpha=alpha+1\n",
    "# print(np.shape(residuals_lasso_full))"
   ]
  },
  {
   "cell_type": "code",
   "execution_count": 27,
   "metadata": {},
   "outputs": [
    {
     "data": {
      "text/html": [
       "<div>\n",
       "<style scoped>\n",
       "    .dataframe tbody tr th:only-of-type {\n",
       "        vertical-align: middle;\n",
       "    }\n",
       "\n",
       "    .dataframe tbody tr th {\n",
       "        vertical-align: top;\n",
       "    }\n",
       "\n",
       "    .dataframe thead th {\n",
       "        text-align: right;\n",
       "    }\n",
       "</style>\n",
       "<table border=\"1\" class=\"dataframe\">\n",
       "  <thead>\n",
       "    <tr style=\"text-align: right;\">\n",
       "      <th></th>\n",
       "      <th>0</th>\n",
       "      <th>1</th>\n",
       "      <th>2</th>\n",
       "      <th>3</th>\n",
       "      <th>4</th>\n",
       "      <th>5</th>\n",
       "      <th>6</th>\n",
       "      <th>7</th>\n",
       "      <th>8</th>\n",
       "      <th>9</th>\n",
       "      <th>10</th>\n",
       "      <th>11</th>\n",
       "      <th>12</th>\n",
       "    </tr>\n",
       "  </thead>\n",
       "  <tbody>\n",
       "    <tr>\n",
       "      <td>0</td>\n",
       "      <td>-0.133470</td>\n",
       "      <td>0.035809</td>\n",
       "      <td>0.049523</td>\n",
       "      <td>3.119835</td>\n",
       "      <td>-15.417061</td>\n",
       "      <td>4.057199</td>\n",
       "      <td>-0.010821</td>\n",
       "      <td>-1.385998</td>\n",
       "      <td>0.242727</td>\n",
       "      <td>-0.008702</td>\n",
       "      <td>-0.910685</td>\n",
       "      <td>0.011794</td>\n",
       "      <td>-0.547113</td>\n",
       "    </tr>\n",
       "    <tr>\n",
       "      <td>1</td>\n",
       "      <td>-0.091916</td>\n",
       "      <td>0.034667</td>\n",
       "      <td>-0.000000</td>\n",
       "      <td>0.000000</td>\n",
       "      <td>-0.000000</td>\n",
       "      <td>1.281317</td>\n",
       "      <td>0.011440</td>\n",
       "      <td>-0.616021</td>\n",
       "      <td>0.191501</td>\n",
       "      <td>-0.009540</td>\n",
       "      <td>-0.703350</td>\n",
       "      <td>0.010832</td>\n",
       "      <td>-0.779921</td>\n",
       "    </tr>\n",
       "    <tr>\n",
       "      <td>2</td>\n",
       "      <td>-0.048873</td>\n",
       "      <td>0.020131</td>\n",
       "      <td>-0.000000</td>\n",
       "      <td>0.000000</td>\n",
       "      <td>0.000000</td>\n",
       "      <td>0.000000</td>\n",
       "      <td>0.036079</td>\n",
       "      <td>-0.000000</td>\n",
       "      <td>0.097192</td>\n",
       "      <td>-0.005776</td>\n",
       "      <td>-0.568270</td>\n",
       "      <td>0.009488</td>\n",
       "      <td>-0.857383</td>\n",
       "    </tr>\n",
       "    <tr>\n",
       "      <td>3</td>\n",
       "      <td>-0.017259</td>\n",
       "      <td>0.023171</td>\n",
       "      <td>-0.000000</td>\n",
       "      <td>0.000000</td>\n",
       "      <td>0.000000</td>\n",
       "      <td>0.000000</td>\n",
       "      <td>0.032872</td>\n",
       "      <td>-0.000000</td>\n",
       "      <td>0.000000</td>\n",
       "      <td>-0.003837</td>\n",
       "      <td>-0.291573</td>\n",
       "      <td>0.009102</td>\n",
       "      <td>-0.843261</td>\n",
       "    </tr>\n",
       "    <tr>\n",
       "      <td>4</td>\n",
       "      <td>-0.000042</td>\n",
       "      <td>0.028042</td>\n",
       "      <td>-0.000000</td>\n",
       "      <td>0.000000</td>\n",
       "      <td>0.000000</td>\n",
       "      <td>0.000000</td>\n",
       "      <td>0.030696</td>\n",
       "      <td>-0.000000</td>\n",
       "      <td>0.000000</td>\n",
       "      <td>-0.005969</td>\n",
       "      <td>-0.038245</td>\n",
       "      <td>0.009047</td>\n",
       "      <td>-0.823998</td>\n",
       "    </tr>\n",
       "    <tr>\n",
       "      <td>...</td>\n",
       "      <td>...</td>\n",
       "      <td>...</td>\n",
       "      <td>...</td>\n",
       "      <td>...</td>\n",
       "      <td>...</td>\n",
       "      <td>...</td>\n",
       "      <td>...</td>\n",
       "      <td>...</td>\n",
       "      <td>...</td>\n",
       "      <td>...</td>\n",
       "      <td>...</td>\n",
       "      <td>...</td>\n",
       "      <td>...</td>\n",
       "    </tr>\n",
       "    <tr>\n",
       "      <td>195</td>\n",
       "      <td>-0.000000</td>\n",
       "      <td>0.000000</td>\n",
       "      <td>-0.000000</td>\n",
       "      <td>0.000000</td>\n",
       "      <td>-0.000000</td>\n",
       "      <td>0.000000</td>\n",
       "      <td>-0.000000</td>\n",
       "      <td>0.000000</td>\n",
       "      <td>-0.000000</td>\n",
       "      <td>-0.018449</td>\n",
       "      <td>-0.000000</td>\n",
       "      <td>0.000000</td>\n",
       "      <td>-0.000000</td>\n",
       "    </tr>\n",
       "    <tr>\n",
       "      <td>196</td>\n",
       "      <td>-0.000000</td>\n",
       "      <td>0.000000</td>\n",
       "      <td>-0.000000</td>\n",
       "      <td>0.000000</td>\n",
       "      <td>-0.000000</td>\n",
       "      <td>0.000000</td>\n",
       "      <td>-0.000000</td>\n",
       "      <td>0.000000</td>\n",
       "      <td>-0.000000</td>\n",
       "      <td>-0.018413</td>\n",
       "      <td>-0.000000</td>\n",
       "      <td>0.000000</td>\n",
       "      <td>-0.000000</td>\n",
       "    </tr>\n",
       "    <tr>\n",
       "      <td>197</td>\n",
       "      <td>-0.000000</td>\n",
       "      <td>0.000000</td>\n",
       "      <td>-0.000000</td>\n",
       "      <td>0.000000</td>\n",
       "      <td>-0.000000</td>\n",
       "      <td>0.000000</td>\n",
       "      <td>-0.000000</td>\n",
       "      <td>0.000000</td>\n",
       "      <td>-0.000000</td>\n",
       "      <td>-0.018377</td>\n",
       "      <td>-0.000000</td>\n",
       "      <td>0.000000</td>\n",
       "      <td>-0.000000</td>\n",
       "    </tr>\n",
       "    <tr>\n",
       "      <td>198</td>\n",
       "      <td>-0.000000</td>\n",
       "      <td>0.000000</td>\n",
       "      <td>-0.000000</td>\n",
       "      <td>0.000000</td>\n",
       "      <td>-0.000000</td>\n",
       "      <td>0.000000</td>\n",
       "      <td>-0.000000</td>\n",
       "      <td>0.000000</td>\n",
       "      <td>-0.000000</td>\n",
       "      <td>-0.018341</td>\n",
       "      <td>-0.000000</td>\n",
       "      <td>0.000000</td>\n",
       "      <td>-0.000000</td>\n",
       "    </tr>\n",
       "    <tr>\n",
       "      <td>199</td>\n",
       "      <td>-0.000000</td>\n",
       "      <td>0.000000</td>\n",
       "      <td>-0.000000</td>\n",
       "      <td>0.000000</td>\n",
       "      <td>-0.000000</td>\n",
       "      <td>0.000000</td>\n",
       "      <td>-0.000000</td>\n",
       "      <td>0.000000</td>\n",
       "      <td>-0.000000</td>\n",
       "      <td>-0.018305</td>\n",
       "      <td>-0.000000</td>\n",
       "      <td>0.000000</td>\n",
       "      <td>-0.000000</td>\n",
       "    </tr>\n",
       "  </tbody>\n",
       "</table>\n",
       "<p>200 rows × 13 columns</p>\n",
       "</div>"
      ],
      "text/plain": [
       "            0         1         2         3          4         5         6  \\\n",
       "0   -0.133470  0.035809  0.049523  3.119835 -15.417061  4.057199 -0.010821   \n",
       "1   -0.091916  0.034667 -0.000000  0.000000  -0.000000  1.281317  0.011440   \n",
       "2   -0.048873  0.020131 -0.000000  0.000000   0.000000  0.000000  0.036079   \n",
       "3   -0.017259  0.023171 -0.000000  0.000000   0.000000  0.000000  0.032872   \n",
       "4   -0.000042  0.028042 -0.000000  0.000000   0.000000  0.000000  0.030696   \n",
       "..        ...       ...       ...       ...        ...       ...       ...   \n",
       "195 -0.000000  0.000000 -0.000000  0.000000  -0.000000  0.000000 -0.000000   \n",
       "196 -0.000000  0.000000 -0.000000  0.000000  -0.000000  0.000000 -0.000000   \n",
       "197 -0.000000  0.000000 -0.000000  0.000000  -0.000000  0.000000 -0.000000   \n",
       "198 -0.000000  0.000000 -0.000000  0.000000  -0.000000  0.000000 -0.000000   \n",
       "199 -0.000000  0.000000 -0.000000  0.000000  -0.000000  0.000000 -0.000000   \n",
       "\n",
       "            7         8         9        10        11        12  \n",
       "0   -1.385998  0.242727 -0.008702 -0.910685  0.011794 -0.547113  \n",
       "1   -0.616021  0.191501 -0.009540 -0.703350  0.010832 -0.779921  \n",
       "2   -0.000000  0.097192 -0.005776 -0.568270  0.009488 -0.857383  \n",
       "3   -0.000000  0.000000 -0.003837 -0.291573  0.009102 -0.843261  \n",
       "4   -0.000000  0.000000 -0.005969 -0.038245  0.009047 -0.823998  \n",
       "..        ...       ...       ...       ...       ...       ...  \n",
       "195  0.000000 -0.000000 -0.018449 -0.000000  0.000000 -0.000000  \n",
       "196  0.000000 -0.000000 -0.018413 -0.000000  0.000000 -0.000000  \n",
       "197  0.000000 -0.000000 -0.018377 -0.000000  0.000000 -0.000000  \n",
       "198  0.000000 -0.000000 -0.018341 -0.000000  0.000000 -0.000000  \n",
       "199  0.000000 -0.000000 -0.018305 -0.000000  0.000000 -0.000000  \n",
       "\n",
       "[200 rows x 13 columns]"
      ]
     },
     "execution_count": 27,
     "metadata": {},
     "output_type": "execute_result"
    }
   ],
   "source": [
    "# checking the dataframe for the regression coefficents of the five predictor variables for 200 alpha values.\n",
    "df=df.append(ls)\n",
    "df\n"
   ]
  },
  {
   "cell_type": "code",
   "execution_count": 28,
   "metadata": {},
   "outputs": [],
   "source": [
    "df.columns=['CRIM', 'ZN', 'INDUS', 'CHAS', 'NOX', 'RM', 'AGE', 'DIS', 'RAD', 'TAX',\n",
    "       'PTRATIO', 'B', 'LSTAT']"
   ]
  },
  {
   "cell_type": "code",
   "execution_count": 29,
   "metadata": {},
   "outputs": [],
   "source": [
    "new_df=df[['CRIM','RM','TAX','ZN','RAD']]"
   ]
  },
  {
   "cell_type": "code",
   "execution_count": 30,
   "metadata": {},
   "outputs": [
    {
     "data": {
      "text/html": [
       "<div>\n",
       "<style scoped>\n",
       "    .dataframe tbody tr th:only-of-type {\n",
       "        vertical-align: middle;\n",
       "    }\n",
       "\n",
       "    .dataframe tbody tr th {\n",
       "        vertical-align: top;\n",
       "    }\n",
       "\n",
       "    .dataframe thead th {\n",
       "        text-align: right;\n",
       "    }\n",
       "</style>\n",
       "<table border=\"1\" class=\"dataframe\">\n",
       "  <thead>\n",
       "    <tr style=\"text-align: right;\">\n",
       "      <th></th>\n",
       "      <th>CRIM</th>\n",
       "      <th>RM</th>\n",
       "      <th>TAX</th>\n",
       "      <th>ZN</th>\n",
       "      <th>RAD</th>\n",
       "    </tr>\n",
       "  </thead>\n",
       "  <tbody>\n",
       "    <tr>\n",
       "      <td>0</td>\n",
       "      <td>-0.133470</td>\n",
       "      <td>4.057199</td>\n",
       "      <td>-0.008702</td>\n",
       "      <td>0.035809</td>\n",
       "      <td>0.242727</td>\n",
       "    </tr>\n",
       "    <tr>\n",
       "      <td>1</td>\n",
       "      <td>-0.091916</td>\n",
       "      <td>1.281317</td>\n",
       "      <td>-0.009540</td>\n",
       "      <td>0.034667</td>\n",
       "      <td>0.191501</td>\n",
       "    </tr>\n",
       "    <tr>\n",
       "      <td>2</td>\n",
       "      <td>-0.048873</td>\n",
       "      <td>0.000000</td>\n",
       "      <td>-0.005776</td>\n",
       "      <td>0.020131</td>\n",
       "      <td>0.097192</td>\n",
       "    </tr>\n",
       "    <tr>\n",
       "      <td>3</td>\n",
       "      <td>-0.017259</td>\n",
       "      <td>0.000000</td>\n",
       "      <td>-0.003837</td>\n",
       "      <td>0.023171</td>\n",
       "      <td>0.000000</td>\n",
       "    </tr>\n",
       "    <tr>\n",
       "      <td>4</td>\n",
       "      <td>-0.000042</td>\n",
       "      <td>0.000000</td>\n",
       "      <td>-0.005969</td>\n",
       "      <td>0.028042</td>\n",
       "      <td>0.000000</td>\n",
       "    </tr>\n",
       "  </tbody>\n",
       "</table>\n",
       "</div>"
      ],
      "text/plain": [
       "       CRIM        RM       TAX        ZN       RAD\n",
       "0 -0.133470  4.057199 -0.008702  0.035809  0.242727\n",
       "1 -0.091916  1.281317 -0.009540  0.034667  0.191501\n",
       "2 -0.048873  0.000000 -0.005776  0.020131  0.097192\n",
       "3 -0.017259  0.000000 -0.003837  0.023171  0.000000\n",
       "4 -0.000042  0.000000 -0.005969  0.028042  0.000000"
      ]
     },
     "execution_count": 30,
     "metadata": {},
     "output_type": "execute_result"
    }
   ],
   "source": [
    "new_df.head()"
   ]
  },
  {
   "cell_type": "code",
   "execution_count": 31,
   "metadata": {},
   "outputs": [
    {
     "data": {
      "text/plain": [
       "Text(0, 0.5, 'values')"
      ]
     },
     "execution_count": 31,
     "metadata": {},
     "output_type": "execute_result"
    },
    {
     "data": {
      "image/png": "[encoded data removed]",
      "text/plain": [
       "<Figure size 432x288 with 1 Axes>"
      ]
     },
     "metadata": {
      "needs_background": "light"
     },
     "output_type": "display_data"
    }
   ],
   "source": [
    "# four lines showing the variation of the predictor variable regression coefficients with lambda(regularization hyperparameter)\n",
    "lines = new_df.plot.line()\n",
    "lines.set_xlabel(\"lambda\")\n",
    "lines.set_ylabel(\"values\")"
   ]
  },
  {
   "cell_type": "code",
   "execution_count": 32,
   "metadata": {},
   "outputs": [
    {
     "data": {
      "image/png": "[encoded data removed]",
      "text/plain": [
       "<Figure size 432x288 with 1 Axes>"
      ]
     },
     "metadata": {
      "needs_background": "light"
     },
     "output_type": "display_data"
    }
   ],
   "source": [
    "# plotting the grpah of the regression coefficients for alpha =2\n",
    "fig=plt.figure()\n",
    "graph=fig.add_axes([0,0,1,1])\n",
    "# here we can plot the grpah for any of the 200 values by just specifying the value in df.iloc[<value>]\n",
    "graph.bar(new_df.columns,new_df.iloc[1])\n",
    "plt.title('Regression_coef')\n",
    "plt.ylabel('values')\n",
    "plt.xlabel('Predictor_variables')\n",
    "plt.show()"
   ]
  },
  {
   "cell_type": "code",
   "execution_count": 33,
   "metadata": {},
   "outputs": [
    {
     "data": {
      "image/png": "[encoded data removed]",
      "text/plain": [
       "<Figure size 432x288 with 1 Axes>"
      ]
     },
     "metadata": {
      "needs_background": "light"
     },
     "output_type": "display_data"
    }
   ],
   "source": [
    "# plotting the grpah of the regression coefficients for alpha =2\n",
    "fig=plt.figure()\n",
    "graph=fig.add_axes([0,0,1,1])\n",
    "# here we can plot the grpah for any of the 200 values by just specifying the value in df.iloc[<value>]\n",
    "graph.bar(new_df.columns,new_df.iloc[100])\n",
    "plt.title('Regression_coef')\n",
    "plt.ylabel('values')\n",
    "plt.xlabel('Predictor_variables')\n",
    "plt.show()"
   ]
  },
  {
   "cell_type": "markdown",
   "metadata": {},
   "source": [
    "## Task2"
   ]
  },
  {
   "cell_type": "code",
   "execution_count": 34,
   "metadata": {},
   "outputs": [],
   "source": [
    "from sklearn.linear_model import Ridge"
   ]
  },
  {
   "cell_type": "code",
   "execution_count": 35,
   "metadata": {},
   "outputs": [
    {
     "name": "stdout",
     "output_type": "stream",
     "text": [
      "(200, 13)\n",
      "(200, 152)\n"
     ]
    }
   ],
   "source": [
    "ls1=[]\n",
    "alpha=0\n",
    "residualsRidge=[]\n",
    "residuals_ridge_full=[]\n",
    "for i in range(200):\n",
    "    clf1 = Ridge(alpha)\n",
    "    # fitting the model for New_X_Train for all the alpha values from 0 to 200.\n",
    "    clf1.fit(new_X_train,y_train)\n",
    "    predictionss=clf1.predict(new_X_train)\n",
    "    # computing the residuals for the training dataset.\n",
    "    residualsRidge.append(predictionss-y_train)\n",
    "    ls1.append(clf1.coef_)\n",
    "    myarray1 = np.asarray(clf1.coef_)\n",
    "    myarray1.transpose()\n",
    "    clf1.fit(X_test,y_test)\n",
    "    predictions1=clf1.predict(X_test)\n",
    "    # computing the residuals and storing in list.\n",
    "    residuals_ridge_full.append(predictions1-y_test)\n",
    "    alpha=alpha+1\n",
    "print(np.shape(ls))\n",
    "print(np.shape(residuals_ridge_full))"
   ]
  },
  {
   "cell_type": "code",
   "execution_count": 36,
   "metadata": {},
   "outputs": [
    {
     "data": {
      "text/html": [
       "<div>\n",
       "<style scoped>\n",
       "    .dataframe tbody tr th:only-of-type {\n",
       "        vertical-align: middle;\n",
       "    }\n",
       "\n",
       "    .dataframe tbody tr th {\n",
       "        vertical-align: top;\n",
       "    }\n",
       "\n",
       "    .dataframe thead th {\n",
       "        text-align: right;\n",
       "    }\n",
       "</style>\n",
       "<table border=\"1\" class=\"dataframe\">\n",
       "  <thead>\n",
       "    <tr style=\"text-align: right;\">\n",
       "      <th></th>\n",
       "      <th>0</th>\n",
       "      <th>1</th>\n",
       "      <th>2</th>\n",
       "      <th>3</th>\n",
       "      <th>4</th>\n",
       "      <th>5</th>\n",
       "      <th>6</th>\n",
       "      <th>7</th>\n",
       "      <th>8</th>\n",
       "      <th>9</th>\n",
       "      <th>10</th>\n",
       "      <th>11</th>\n",
       "      <th>12</th>\n",
       "    </tr>\n",
       "  </thead>\n",
       "  <tbody>\n",
       "    <tr>\n",
       "      <td>0</td>\n",
       "      <td>-0.133470</td>\n",
       "      <td>0.035809</td>\n",
       "      <td>0.049523</td>\n",
       "      <td>3.119835</td>\n",
       "      <td>-15.417061</td>\n",
       "      <td>4.057199</td>\n",
       "      <td>-0.010821</td>\n",
       "      <td>-1.385998</td>\n",
       "      <td>0.242727</td>\n",
       "      <td>-0.008702</td>\n",
       "      <td>-0.910685</td>\n",
       "      <td>0.011794</td>\n",
       "      <td>-0.547113</td>\n",
       "    </tr>\n",
       "    <tr>\n",
       "      <td>1</td>\n",
       "      <td>-0.128427</td>\n",
       "      <td>0.036952</td>\n",
       "      <td>0.017914</td>\n",
       "      <td>2.932695</td>\n",
       "      <td>-7.848060</td>\n",
       "      <td>4.063574</td>\n",
       "      <td>-0.017242</td>\n",
       "      <td>-1.271761</td>\n",
       "      <td>0.225494</td>\n",
       "      <td>-0.009381</td>\n",
       "      <td>-0.827105</td>\n",
       "      <td>0.011988</td>\n",
       "      <td>-0.563474</td>\n",
       "    </tr>\n",
       "    <tr>\n",
       "      <td>2</td>\n",
       "      <td>-0.126954</td>\n",
       "      <td>0.037495</td>\n",
       "      <td>0.007215</td>\n",
       "      <td>2.797066</td>\n",
       "      <td>-5.258951</td>\n",
       "      <td>4.041246</td>\n",
       "      <td>-0.019185</td>\n",
       "      <td>-1.233265</td>\n",
       "      <td>0.221014</td>\n",
       "      <td>-0.009664</td>\n",
       "      <td>-0.800178</td>\n",
       "      <td>0.012060</td>\n",
       "      <td>-0.571211</td>\n",
       "    </tr>\n",
       "    <tr>\n",
       "      <td>3</td>\n",
       "      <td>-0.126380</td>\n",
       "      <td>0.037874</td>\n",
       "      <td>0.001859</td>\n",
       "      <td>2.681141</td>\n",
       "      <td>-3.951820</td>\n",
       "      <td>4.011920</td>\n",
       "      <td>-0.019984</td>\n",
       "      <td>-1.214158</td>\n",
       "      <td>0.219729</td>\n",
       "      <td>-0.009842</td>\n",
       "      <td>-0.787744</td>\n",
       "      <td>0.012099</td>\n",
       "      <td>-0.576653</td>\n",
       "    </tr>\n",
       "    <tr>\n",
       "      <td>4</td>\n",
       "      <td>-0.126154</td>\n",
       "      <td>0.038182</td>\n",
       "      <td>-0.001361</td>\n",
       "      <td>2.577558</td>\n",
       "      <td>-3.163566</td>\n",
       "      <td>3.980083</td>\n",
       "      <td>-0.020325</td>\n",
       "      <td>-1.202823</td>\n",
       "      <td>0.219675</td>\n",
       "      <td>-0.009974</td>\n",
       "      <td>-0.781110</td>\n",
       "      <td>0.012124</td>\n",
       "      <td>-0.581112</td>\n",
       "    </tr>\n",
       "    <tr>\n",
       "      <td>...</td>\n",
       "      <td>...</td>\n",
       "      <td>...</td>\n",
       "      <td>...</td>\n",
       "      <td>...</td>\n",
       "      <td>...</td>\n",
       "      <td>...</td>\n",
       "      <td>...</td>\n",
       "      <td>...</td>\n",
       "      <td>...</td>\n",
       "      <td>...</td>\n",
       "      <td>...</td>\n",
       "      <td>...</td>\n",
       "      <td>...</td>\n",
       "    </tr>\n",
       "    <tr>\n",
       "      <td>195</td>\n",
       "      <td>-0.129046</td>\n",
       "      <td>0.045243</td>\n",
       "      <td>-0.029776</td>\n",
       "      <td>0.364803</td>\n",
       "      <td>-0.064659</td>\n",
       "      <td>1.482389</td>\n",
       "      <td>0.004502</td>\n",
       "      <td>-0.948376</td>\n",
       "      <td>0.280067</td>\n",
       "      <td>-0.012404</td>\n",
       "      <td>-0.802327</td>\n",
       "      <td>0.011248</td>\n",
       "      <td>-0.763947</td>\n",
       "    </tr>\n",
       "    <tr>\n",
       "      <td>196</td>\n",
       "      <td>-0.129028</td>\n",
       "      <td>0.045241</td>\n",
       "      <td>-0.029785</td>\n",
       "      <td>0.363318</td>\n",
       "      <td>-0.064248</td>\n",
       "      <td>1.477761</td>\n",
       "      <td>0.004573</td>\n",
       "      <td>-0.947234</td>\n",
       "      <td>0.280092</td>\n",
       "      <td>-0.012405</td>\n",
       "      <td>-0.802117</td>\n",
       "      <td>0.011245</td>\n",
       "      <td>-0.764234</td>\n",
       "    </tr>\n",
       "    <tr>\n",
       "      <td>197</td>\n",
       "      <td>-0.129010</td>\n",
       "      <td>0.045238</td>\n",
       "      <td>-0.029794</td>\n",
       "      <td>0.361845</td>\n",
       "      <td>-0.063842</td>\n",
       "      <td>1.473163</td>\n",
       "      <td>0.004644</td>\n",
       "      <td>-0.946095</td>\n",
       "      <td>0.280117</td>\n",
       "      <td>-0.012406</td>\n",
       "      <td>-0.801905</td>\n",
       "      <td>0.011242</td>\n",
       "      <td>-0.764518</td>\n",
       "    </tr>\n",
       "    <tr>\n",
       "      <td>198</td>\n",
       "      <td>-0.128992</td>\n",
       "      <td>0.045236</td>\n",
       "      <td>-0.029802</td>\n",
       "      <td>0.360386</td>\n",
       "      <td>-0.063439</td>\n",
       "      <td>1.468596</td>\n",
       "      <td>0.004715</td>\n",
       "      <td>-0.944959</td>\n",
       "      <td>0.280140</td>\n",
       "      <td>-0.012407</td>\n",
       "      <td>-0.801692</td>\n",
       "      <td>0.011239</td>\n",
       "      <td>-0.764801</td>\n",
       "    </tr>\n",
       "    <tr>\n",
       "      <td>199</td>\n",
       "      <td>-0.128974</td>\n",
       "      <td>0.045234</td>\n",
       "      <td>-0.029810</td>\n",
       "      <td>0.358939</td>\n",
       "      <td>-0.063041</td>\n",
       "      <td>1.464059</td>\n",
       "      <td>0.004786</td>\n",
       "      <td>-0.943824</td>\n",
       "      <td>0.280163</td>\n",
       "      <td>-0.012408</td>\n",
       "      <td>-0.801478</td>\n",
       "      <td>0.011237</td>\n",
       "      <td>-0.765081</td>\n",
       "    </tr>\n",
       "  </tbody>\n",
       "</table>\n",
       "<p>200 rows × 13 columns</p>\n",
       "</div>"
      ],
      "text/plain": [
       "            0         1         2         3          4         5         6  \\\n",
       "0   -0.133470  0.035809  0.049523  3.119835 -15.417061  4.057199 -0.010821   \n",
       "1   -0.128427  0.036952  0.017914  2.932695  -7.848060  4.063574 -0.017242   \n",
       "2   -0.126954  0.037495  0.007215  2.797066  -5.258951  4.041246 -0.019185   \n",
       "3   -0.126380  0.037874  0.001859  2.681141  -3.951820  4.011920 -0.019984   \n",
       "4   -0.126154  0.038182 -0.001361  2.577558  -3.163566  3.980083 -0.020325   \n",
       "..        ...       ...       ...       ...        ...       ...       ...   \n",
       "195 -0.129046  0.045243 -0.029776  0.364803  -0.064659  1.482389  0.004502   \n",
       "196 -0.129028  0.045241 -0.029785  0.363318  -0.064248  1.477761  0.004573   \n",
       "197 -0.129010  0.045238 -0.029794  0.361845  -0.063842  1.473163  0.004644   \n",
       "198 -0.128992  0.045236 -0.029802  0.360386  -0.063439  1.468596  0.004715   \n",
       "199 -0.128974  0.045234 -0.029810  0.358939  -0.063041  1.464059  0.004786   \n",
       "\n",
       "            7         8         9        10        11        12  \n",
       "0   -1.385998  0.242727 -0.008702 -0.910685  0.011794 -0.547113  \n",
       "1   -1.271761  0.225494 -0.009381 -0.827105  0.011988 -0.563474  \n",
       "2   -1.233265  0.221014 -0.009664 -0.800178  0.012060 -0.571211  \n",
       "3   -1.214158  0.219729 -0.009842 -0.787744  0.012099 -0.576653  \n",
       "4   -1.202823  0.219675 -0.009974 -0.781110  0.012124 -0.581112  \n",
       "..        ...       ...       ...       ...       ...       ...  \n",
       "195 -0.948376  0.280067 -0.012404 -0.802327  0.011248 -0.763947  \n",
       "196 -0.947234  0.280092 -0.012405 -0.802117  0.011245 -0.764234  \n",
       "197 -0.946095  0.280117 -0.012406 -0.801905  0.011242 -0.764518  \n",
       "198 -0.944959  0.280140 -0.012407 -0.801692  0.011239 -0.764801  \n",
       "199 -0.943824  0.280163 -0.012408 -0.801478  0.011237 -0.765081  \n",
       "\n",
       "[200 rows x 13 columns]"
      ]
     },
     "execution_count": 36,
     "metadata": {},
     "output_type": "execute_result"
    }
   ],
   "source": [
    "# checking if all the values are stored of the regression coefficients for 200 alpha values.\n",
    "df1=pd.DataFrame()\n",
    "df1=df1.append(ls1)\n",
    "df1"
   ]
  },
  {
   "cell_type": "code",
   "execution_count": 37,
   "metadata": {},
   "outputs": [
    {
     "data": {
      "text/plain": [
       "(200, 13)"
      ]
     },
     "execution_count": 37,
     "metadata": {},
     "output_type": "execute_result"
    }
   ],
   "source": [
    "df1.shape"
   ]
  },
  {
   "cell_type": "code",
   "execution_count": 38,
   "metadata": {},
   "outputs": [],
   "source": [
    "df1.columns=['CRIM', 'ZN', 'INDUS', 'CHAS', 'NOX', 'RM', 'AGE', 'DIS', 'RAD', 'TAX',\n",
    "       'PTRATIO', 'B', 'LSTAT']"
   ]
  },
  {
   "cell_type": "code",
   "execution_count": 39,
   "metadata": {},
   "outputs": [],
   "source": [
    "new_df1=df1[['CRIM','RM','TAX','ZN','RAD']]"
   ]
  },
  {
   "cell_type": "code",
   "execution_count": 40,
   "metadata": {},
   "outputs": [
    {
     "data": {
      "text/html": [
       "<div>\n",
       "<style scoped>\n",
       "    .dataframe tbody tr th:only-of-type {\n",
       "        vertical-align: middle;\n",
       "    }\n",
       "\n",
       "    .dataframe tbody tr th {\n",
       "        vertical-align: top;\n",
       "    }\n",
       "\n",
       "    .dataframe thead th {\n",
       "        text-align: right;\n",
       "    }\n",
       "</style>\n",
       "<table border=\"1\" class=\"dataframe\">\n",
       "  <thead>\n",
       "    <tr style=\"text-align: right;\">\n",
       "      <th></th>\n",
       "      <th>CRIM</th>\n",
       "      <th>RM</th>\n",
       "      <th>TAX</th>\n",
       "      <th>ZN</th>\n",
       "      <th>RAD</th>\n",
       "    </tr>\n",
       "  </thead>\n",
       "  <tbody>\n",
       "    <tr>\n",
       "      <td>0</td>\n",
       "      <td>-0.133470</td>\n",
       "      <td>4.057199</td>\n",
       "      <td>-0.008702</td>\n",
       "      <td>0.035809</td>\n",
       "      <td>0.242727</td>\n",
       "    </tr>\n",
       "    <tr>\n",
       "      <td>1</td>\n",
       "      <td>-0.128427</td>\n",
       "      <td>4.063574</td>\n",
       "      <td>-0.009381</td>\n",
       "      <td>0.036952</td>\n",
       "      <td>0.225494</td>\n",
       "    </tr>\n",
       "    <tr>\n",
       "      <td>2</td>\n",
       "      <td>-0.126954</td>\n",
       "      <td>4.041246</td>\n",
       "      <td>-0.009664</td>\n",
       "      <td>0.037495</td>\n",
       "      <td>0.221014</td>\n",
       "    </tr>\n",
       "    <tr>\n",
       "      <td>3</td>\n",
       "      <td>-0.126380</td>\n",
       "      <td>4.011920</td>\n",
       "      <td>-0.009842</td>\n",
       "      <td>0.037874</td>\n",
       "      <td>0.219729</td>\n",
       "    </tr>\n",
       "    <tr>\n",
       "      <td>4</td>\n",
       "      <td>-0.126154</td>\n",
       "      <td>3.980083</td>\n",
       "      <td>-0.009974</td>\n",
       "      <td>0.038182</td>\n",
       "      <td>0.219675</td>\n",
       "    </tr>\n",
       "  </tbody>\n",
       "</table>\n",
       "</div>"
      ],
      "text/plain": [
       "       CRIM        RM       TAX        ZN       RAD\n",
       "0 -0.133470  4.057199 -0.008702  0.035809  0.242727\n",
       "1 -0.128427  4.063574 -0.009381  0.036952  0.225494\n",
       "2 -0.126954  4.041246 -0.009664  0.037495  0.221014\n",
       "3 -0.126380  4.011920 -0.009842  0.037874  0.219729\n",
       "4 -0.126154  3.980083 -0.009974  0.038182  0.219675"
      ]
     },
     "execution_count": 40,
     "metadata": {},
     "output_type": "execute_result"
    }
   ],
   "source": [
    "new_df1.head()"
   ]
  },
  {
   "cell_type": "code",
   "execution_count": 41,
   "metadata": {},
   "outputs": [
    {
     "data": {
      "text/plain": [
       "Text(0, 0.5, 'values')"
      ]
     },
     "execution_count": 41,
     "metadata": {},
     "output_type": "execute_result"
    },
    {
     "data": {
      "image/png": "[encoded data removed]",
      "text/plain": [
       "<Figure size 432x288 with 1 Axes>"
      ]
     },
     "metadata": {
      "needs_background": "light"
     },
     "output_type": "display_data"
    }
   ],
   "source": [
    "# four lines showing the variation of the predictor variable regression coefficients with lambda(regularization hyperparameter)\n",
    "lines = new_df1.plot.line()\n",
    "lines.set_xlabel(\"lambda\")\n",
    "lines.set_ylabel(\"values\")"
   ]
  },
  {
   "cell_type": "code",
   "execution_count": 42,
   "metadata": {},
   "outputs": [
    {
     "data": {
      "image/png": "[encoded data removed]",
      "text/plain": [
       "<Figure size 432x288 with 1 Axes>"
      ]
     },
     "metadata": {
      "needs_background": "light"
     },
     "output_type": "display_data"
    }
   ],
   "source": [
    "# plotting the grpah of the regression coefficients for alpha =2\n",
    "fig=plt.figure()\n",
    "graph=fig.add_axes([0,0,1,1])\n",
    "# here we can plot the grpah for any of the 200 values by just specifying the value in df.iloc[<value>]\n",
    "graph.bar(new_df1.columns,new_df1.iloc[2])\n",
    "plt.title('Regression_coef')\n",
    "plt.ylabel('values')\n",
    "plt.xlabel('Predictor_variables')\n",
    "plt.show()"
   ]
  },
  {
   "cell_type": "markdown",
   "metadata": {},
   "source": [
    "## Task4"
   ]
  },
  {
   "cell_type": "code",
   "execution_count": 43,
   "metadata": {},
   "outputs": [],
   "source": [
    "# here predicting the residuals for the normal regression model.\n",
    "predictionlr=reg.predict(X_train)"
   ]
  },
  {
   "cell_type": "code",
   "execution_count": 44,
   "metadata": {},
   "outputs": [],
   "source": [
    "residuals=(y_train-predictionlr)"
   ]
  },
  {
   "cell_type": "code",
   "execution_count": 45,
   "metadata": {},
   "outputs": [],
   "source": [
    "residuals_mean=np.mean(np.abs(residuals))\n",
    "type(residuals)\n",
    "lst=list(range(0,len(residuals)))"
   ]
  },
  {
   "cell_type": "code",
   "execution_count": 46,
   "metadata": {},
   "outputs": [
    {
     "data": {
      "image/png": "[encoded data removed]",
      "text/plain": [
       "<Figure size 432x288 with 1 Axes>"
      ]
     },
     "metadata": {
      "needs_background": "light"
     },
     "output_type": "display_data"
    }
   ],
   "source": [
    "#plotting the graph for the residuals.\n",
    "fig=plt.figure()\n",
    "graph=fig.add_axes([0,0,1,1])\n",
    "graph.bar(lst,residuals)\n",
    "plt.title('Regression')\n",
    "plt.ylabel('values')\n",
    "plt.xlabel('Training Example')\n",
    "plt.show()"
   ]
  },
  {
   "cell_type": "code",
   "execution_count": 47,
   "metadata": {},
   "outputs": [
    {
     "data": {
      "text/plain": [
       "(200, 354)"
      ]
     },
     "execution_count": 47,
     "metadata": {},
     "output_type": "execute_result"
    }
   ],
   "source": [
    "lst=list(range(0,354))\n",
    "np.shape(residualsLasso)"
   ]
  },
  {
   "cell_type": "code",
   "execution_count": 48,
   "metadata": {},
   "outputs": [
    {
     "data": {
      "image/png": "[encoded data removed]",
      "text/plain": [
       "<Figure size 432x288 with 1 Axes>"
      ]
     },
     "metadata": {
      "needs_background": "light"
     },
     "output_type": "display_data"
    }
   ],
   "source": [
    "#plotting the graph for the residuals with alpha =2.\n",
    "fig=plt.figure()\n",
    "graph=fig.add_axes([0,0,1,1])\n",
    "graph.bar(lst,residualsLasso[2])\n",
    "plt.title('LassoRegression')\n",
    "plt.ylabel('values')\n",
    "plt.xlabel('Training Example')\n",
    "plt.show()"
   ]
  },
  {
   "cell_type": "code",
   "execution_count": 49,
   "metadata": {},
   "outputs": [
    {
     "data": {
      "image/png": "[encoded data removed]",
      "text/plain": [
       "<Figure size 432x288 with 1 Axes>"
      ]
     },
     "metadata": {
      "needs_background": "light"
     },
     "output_type": "display_data"
    }
   ],
   "source": [
    "#plotting the graph for the residuals with aplha=100.\n",
    "fig=plt.figure()\n",
    "graph=fig.add_axes([0,0,1,1])\n",
    "graph.bar(lst,residualsLasso[100])\n",
    "plt.title('LassoRegression')\n",
    "plt.ylabel('values')\n",
    "plt.xlabel('Training Example')\n",
    "plt.show()"
   ]
  },
  {
   "cell_type": "code",
   "execution_count": 50,
   "metadata": {},
   "outputs": [
    {
     "data": {
      "image/png": "[encoded data removed]",
      "text/plain": [
       "<Figure size 432x288 with 1 Axes>"
      ]
     },
     "metadata": {
      "needs_background": "light"
     },
     "output_type": "display_data"
    }
   ],
   "source": [
    "#plotting the graph for the residuals with aplha=190.\n",
    "fig=plt.figure()\n",
    "graph=fig.add_axes([0,0,1,1])\n",
    "graph.bar(lst,residualsLasso[199])\n",
    "plt.title('LassoRegression')\n",
    "plt.ylabel('values')\n",
    "plt.xlabel('Training Example')\n",
    "plt.show()"
   ]
  },
  {
   "cell_type": "code",
   "execution_count": 51,
   "metadata": {},
   "outputs": [
    {
     "data": {
      "image/png": "[encoded data removed]",
      "text/plain": [
       "<Figure size 432x288 with 1 Axes>"
      ]
     },
     "metadata": {
      "needs_background": "light"
     },
     "output_type": "display_data"
    }
   ],
   "source": [
    "#plotting the graph for the residuals with aplha=2.\n",
    "fig=plt.figure()\n",
    "graph=fig.add_axes([0,0,1,1])\n",
    "graph.bar(lst,residualsRidge[2])\n",
    "plt.title('RidgeRegression')\n",
    "plt.ylabel('values')\n",
    "plt.xlabel('Training Example')\n",
    "plt.show()"
   ]
  },
  {
   "cell_type": "code",
   "execution_count": 52,
   "metadata": {},
   "outputs": [
    {
     "data": {
      "image/png": "[encoded data removed]",
      "text/plain": [
       "<Figure size 432x288 with 1 Axes>"
      ]
     },
     "metadata": {
      "needs_background": "light"
     },
     "output_type": "display_data"
    }
   ],
   "source": [
    "#plotting the graph for the residuals with aplha=100\n",
    "fig=plt.figure()\n",
    "graph=fig.add_axes([0,0,1,1])\n",
    "graph.bar(lst,residualsRidge[100])\n",
    "plt.title('RidgeRegression')\n",
    "plt.ylabel('values')\n",
    "plt.xlabel('Training Example')\n",
    "plt.show()"
   ]
  },
  {
   "cell_type": "code",
   "execution_count": 53,
   "metadata": {},
   "outputs": [
    {
     "data": {
      "image/png": "[encoded data removed]",
      "text/plain": [
       "<Figure size 432x288 with 1 Axes>"
      ]
     },
     "metadata": {
      "needs_background": "light"
     },
     "output_type": "display_data"
    }
   ],
   "source": [
    "#plotting the graph for the residuals with aplha=199.\n",
    "fig=plt.figure()\n",
    "graph=fig.add_axes([0,0,1,1])\n",
    "graph.bar(lst,residualsRidge[199])\n",
    "plt.title('RidgeRegression')\n",
    "plt.ylabel('values')\n",
    "plt.xlabel('Training example')\n",
    "plt.show()"
   ]
  },
  {
   "cell_type": "markdown",
   "metadata": {},
   "source": [
    "## Task5"
   ]
  },
  {
   "cell_type": "code",
   "execution_count": 54,
   "metadata": {},
   "outputs": [],
   "source": [
    "# computing the mean error for lasso\n",
    "Lasso_error=np.mean(np.abs((residualsLasso)),axis=1)"
   ]
  },
  {
   "cell_type": "code",
   "execution_count": 55,
   "metadata": {},
   "outputs": [
    {
     "data": {
      "text/plain": [
       "(200,)"
      ]
     },
     "execution_count": 55,
     "metadata": {},
     "output_type": "execute_result"
    }
   ],
   "source": [
    "Lasso_error.shape"
   ]
  },
  {
   "cell_type": "code",
   "execution_count": 56,
   "metadata": {},
   "outputs": [],
   "source": [
    "# computing the mean error for Ridge\n",
    "Ridge_error=np.mean(np.abs((residualsRidge)),axis=1)"
   ]
  },
  {
   "cell_type": "code",
   "execution_count": 57,
   "metadata": {},
   "outputs": [
    {
     "data": {
      "text/plain": [
       "(200,)"
      ]
     },
     "execution_count": 57,
     "metadata": {},
     "output_type": "execute_result"
    }
   ],
   "source": [
    "Ridge_error.shape"
   ]
  },
  {
   "cell_type": "code",
   "execution_count": 58,
   "metadata": {},
   "outputs": [],
   "source": [
    "dff=pd.DataFrame(Lasso_error)"
   ]
  },
  {
   "cell_type": "code",
   "execution_count": 59,
   "metadata": {},
   "outputs": [
    {
     "data": {
      "text/html": [
       "<div>\n",
       "<style scoped>\n",
       "    .dataframe tbody tr th:only-of-type {\n",
       "        vertical-align: middle;\n",
       "    }\n",
       "\n",
       "    .dataframe tbody tr th {\n",
       "        vertical-align: top;\n",
       "    }\n",
       "\n",
       "    .dataframe thead th {\n",
       "        text-align: right;\n",
       "    }\n",
       "</style>\n",
       "<table border=\"1\" class=\"dataframe\">\n",
       "  <thead>\n",
       "    <tr style=\"text-align: right;\">\n",
       "      <th></th>\n",
       "      <th>0</th>\n",
       "    </tr>\n",
       "  </thead>\n",
       "  <tbody>\n",
       "    <tr>\n",
       "      <td>0</td>\n",
       "      <td>3.356827</td>\n",
       "    </tr>\n",
       "    <tr>\n",
       "      <td>1</td>\n",
       "      <td>3.653827</td>\n",
       "    </tr>\n",
       "    <tr>\n",
       "      <td>2</td>\n",
       "      <td>4.050305</td>\n",
       "    </tr>\n",
       "    <tr>\n",
       "      <td>3</td>\n",
       "      <td>4.189873</td>\n",
       "    </tr>\n",
       "    <tr>\n",
       "      <td>4</td>\n",
       "      <td>4.309315</td>\n",
       "    </tr>\n",
       "  </tbody>\n",
       "</table>\n",
       "</div>"
      ],
      "text/plain": [
       "          0\n",
       "0  3.356827\n",
       "1  3.653827\n",
       "2  4.050305\n",
       "3  4.189873\n",
       "4  4.309315"
      ]
     },
     "execution_count": 59,
     "metadata": {},
     "output_type": "execute_result"
    }
   ],
   "source": [
    "dff.head()"
   ]
  },
  {
   "cell_type": "code",
   "execution_count": 60,
   "metadata": {},
   "outputs": [],
   "source": [
    "dff['Ridge Error']=Ridge_error"
   ]
  },
  {
   "cell_type": "code",
   "execution_count": 61,
   "metadata": {},
   "outputs": [],
   "source": [
    "dff.columns=['Lasso Error train','Ridge Error Train']"
   ]
  },
  {
   "cell_type": "code",
   "execution_count": 62,
   "metadata": {},
   "outputs": [
    {
     "data": {
      "text/html": [
       "<div>\n",
       "<style scoped>\n",
       "    .dataframe tbody tr th:only-of-type {\n",
       "        vertical-align: middle;\n",
       "    }\n",
       "\n",
       "    .dataframe tbody tr th {\n",
       "        vertical-align: top;\n",
       "    }\n",
       "\n",
       "    .dataframe thead th {\n",
       "        text-align: right;\n",
       "    }\n",
       "</style>\n",
       "<table border=\"1\" class=\"dataframe\">\n",
       "  <thead>\n",
       "    <tr style=\"text-align: right;\">\n",
       "      <th></th>\n",
       "      <th>Lasso Error train</th>\n",
       "      <th>Ridge Error Train</th>\n",
       "    </tr>\n",
       "  </thead>\n",
       "  <tbody>\n",
       "    <tr>\n",
       "      <td>0</td>\n",
       "      <td>3.356827</td>\n",
       "      <td>3.356827</td>\n",
       "    </tr>\n",
       "    <tr>\n",
       "      <td>1</td>\n",
       "      <td>3.653827</td>\n",
       "      <td>3.341936</td>\n",
       "    </tr>\n",
       "    <tr>\n",
       "      <td>2</td>\n",
       "      <td>4.050305</td>\n",
       "      <td>3.343882</td>\n",
       "    </tr>\n",
       "    <tr>\n",
       "      <td>3</td>\n",
       "      <td>4.189873</td>\n",
       "      <td>3.347301</td>\n",
       "    </tr>\n",
       "    <tr>\n",
       "      <td>4</td>\n",
       "      <td>4.309315</td>\n",
       "      <td>3.349773</td>\n",
       "    </tr>\n",
       "  </tbody>\n",
       "</table>\n",
       "</div>"
      ],
      "text/plain": [
       "   Lasso Error train  Ridge Error Train\n",
       "0           3.356827           3.356827\n",
       "1           3.653827           3.341936\n",
       "2           4.050305           3.343882\n",
       "3           4.189873           3.347301\n",
       "4           4.309315           3.349773"
      ]
     },
     "execution_count": 62,
     "metadata": {},
     "output_type": "execute_result"
    }
   ],
   "source": [
    "dff.index.title=['Alpha Values']\n",
    "dff.head()"
   ]
  },
  {
   "cell_type": "code",
   "execution_count": 63,
   "metadata": {},
   "outputs": [
    {
     "data": {
      "text/plain": [
       "(200,)"
      ]
     },
     "execution_count": 63,
     "metadata": {},
     "output_type": "execute_result"
    }
   ],
   "source": [
    "# computing the mean error for the tests sets\n",
    "Lasso_error_test=np.mean(np.abs(residuals_lasso_full),axis=1)\n",
    "Ridge_error_test=np.mean(np.abs(residuals_ridge_full),axis=1)\n",
    "Ridge_error_test.shape"
   ]
  },
  {
   "cell_type": "code",
   "execution_count": 64,
   "metadata": {},
   "outputs": [],
   "source": [
    "dff['Lasso Error Test']=Lasso_error_test"
   ]
  },
  {
   "cell_type": "code",
   "execution_count": 65,
   "metadata": {},
   "outputs": [],
   "source": [
    "dff['Ridge Error Test']=Ridge_error_test"
   ]
  },
  {
   "cell_type": "code",
   "execution_count": 66,
   "metadata": {},
   "outputs": [
    {
     "data": {
      "text/html": [
       "<div>\n",
       "<style scoped>\n",
       "    .dataframe tbody tr th:only-of-type {\n",
       "        vertical-align: middle;\n",
       "    }\n",
       "\n",
       "    .dataframe tbody tr th {\n",
       "        vertical-align: top;\n",
       "    }\n",
       "\n",
       "    .dataframe thead th {\n",
       "        text-align: right;\n",
       "    }\n",
       "</style>\n",
       "<table border=\"1\" class=\"dataframe\">\n",
       "  <thead>\n",
       "    <tr style=\"text-align: right;\">\n",
       "      <th></th>\n",
       "      <th>Lasso Error train</th>\n",
       "      <th>Ridge Error Train</th>\n",
       "      <th>Lasso Error Test</th>\n",
       "      <th>Ridge Error Test</th>\n",
       "    </tr>\n",
       "  </thead>\n",
       "  <tbody>\n",
       "    <tr>\n",
       "      <td>0</td>\n",
       "      <td>3.356827</td>\n",
       "      <td>3.356827</td>\n",
       "      <td>2.952089</td>\n",
       "      <td>2.952089</td>\n",
       "    </tr>\n",
       "    <tr>\n",
       "      <td>1</td>\n",
       "      <td>3.653827</td>\n",
       "      <td>3.341936</td>\n",
       "      <td>3.412861</td>\n",
       "      <td>2.978657</td>\n",
       "    </tr>\n",
       "    <tr>\n",
       "      <td>2</td>\n",
       "      <td>4.050305</td>\n",
       "      <td>3.343882</td>\n",
       "      <td>3.583923</td>\n",
       "      <td>3.011699</td>\n",
       "    </tr>\n",
       "    <tr>\n",
       "      <td>3</td>\n",
       "      <td>4.189873</td>\n",
       "      <td>3.347301</td>\n",
       "      <td>3.788707</td>\n",
       "      <td>3.030118</td>\n",
       "    </tr>\n",
       "    <tr>\n",
       "      <td>4</td>\n",
       "      <td>4.309315</td>\n",
       "      <td>3.349773</td>\n",
       "      <td>3.817766</td>\n",
       "      <td>3.043285</td>\n",
       "    </tr>\n",
       "  </tbody>\n",
       "</table>\n",
       "</div>"
      ],
      "text/plain": [
       "   Lasso Error train  Ridge Error Train  Lasso Error Test  Ridge Error Test\n",
       "0           3.356827           3.356827          2.952089          2.952089\n",
       "1           3.653827           3.341936          3.412861          2.978657\n",
       "2           4.050305           3.343882          3.583923          3.011699\n",
       "3           4.189873           3.347301          3.788707          3.030118\n",
       "4           4.309315           3.349773          3.817766          3.043285"
      ]
     },
     "execution_count": 66,
     "metadata": {},
     "output_type": "execute_result"
    }
   ],
   "source": [
    "# final tabulated errors\n",
    "dff.head()"
   ]
  },
  {
   "cell_type": "code",
   "execution_count": 67,
   "metadata": {},
   "outputs": [
    {
     "data": {
      "text/plain": [
       "3.3568267821681976"
      ]
     },
     "execution_count": 67,
     "metadata": {},
     "output_type": "execute_result"
    }
   ],
   "source": [
    "# Linear regression model mean error\n",
    "residuals_mean"
   ]
  },
  {
   "cell_type": "code",
   "execution_count": 68,
   "metadata": {},
   "outputs": [],
   "source": [
    "# for the training set for LINEAR REGRESSION\n",
    "y=reg.predict(X_test)"
   ]
  },
  {
   "cell_type": "code",
   "execution_count": 69,
   "metadata": {},
   "outputs": [],
   "source": [
    "residual_error_LR=y-y_test"
   ]
  },
  {
   "cell_type": "code",
   "execution_count": 70,
   "metadata": {},
   "outputs": [
    {
     "data": {
      "text/plain": [
       "3.162709871457424"
      ]
     },
     "execution_count": 70,
     "metadata": {},
     "output_type": "execute_result"
    }
   ],
   "source": [
    "np.mean(np.abs(residual_error_LR))"
   ]
  },
  {
   "cell_type": "code",
   "execution_count": 71,
   "metadata": {},
   "outputs": [
    {
     "data": {
      "image/png": "[encoded data removed]",
      "text/plain": [
       "<Figure size 432x288 with 1 Axes>"
      ]
     },
     "metadata": {
      "needs_background": "light"
     },
     "output_type": "display_data"
    }
   ],
   "source": [
    "list1=[]\n",
    "for i in range(len(residual_error_LR)):\n",
    "    list1.append(i)\n",
    "fig=plt.figure()\n",
    "graph=fig.add_axes([0,0,1,1])\n",
    "graph.bar(list1,residual_error_LR)\n",
    "plt.title('Regression')\n",
    "plt.ylabel('values')\n",
    "plt.xlabel('Test Example')\n",
    "plt.show()"
   ]
  },
  {
   "cell_type": "code",
   "execution_count": 72,
   "metadata": {},
   "outputs": [
    {
     "data": {
      "image/png": "[encoded data removed]",
      "text/plain": [
       "<Figure size 432x288 with 1 Axes>"
      ]
     },
     "metadata": {
      "needs_background": "light"
     },
     "output_type": "display_data"
    }
   ],
   "source": [
    "lst=[]\n",
    "for i in range(len(residuals_lasso_full[2])):\n",
    "    lst.append(i)\n",
    "\n",
    "fig=plt.figure()\n",
    "graph=fig.add_axes([0,0,1,1])\n",
    "graph.bar(lst,residuals_lasso_full[2])\n",
    "plt.title('LassoRegression')\n",
    "plt.ylabel('values')\n",
    "plt.xlabel('Test Example')\n",
    "plt.show()"
   ]
  },
  {
   "cell_type": "code",
   "execution_count": 73,
   "metadata": {},
   "outputs": [
    {
     "data": {
      "image/png": "[encoded data removed]",
      "text/plain": [
       "<Figure size 432x288 with 1 Axes>"
      ]
     },
     "metadata": {
      "needs_background": "light"
     },
     "output_type": "display_data"
    }
   ],
   "source": [
    "lst=[]\n",
    "for i in range(len(residuals_ridge_full[3])):\n",
    "    lst.append(i)\n",
    "\n",
    "fig=plt.figure()\n",
    "graph=fig.add_axes([0,0,1,1])\n",
    "graph.bar(lst,residuals_ridge_full[3])\n",
    "plt.title('RidgeRegression')\n",
    "plt.ylabel('values')\n",
    "plt.xlabel('Test Example')\n",
    "plt.show()"
   ]
  },
  {
   "cell_type": "code",
   "execution_count": 74,
   "metadata": {},
   "outputs": [
    {
     "data": {
      "text/plain": [
       "'\\n    for learning part you can obsereve that: \\n    1.the residuals increases as we change the type of regression from normal to Lasso or Ridge and this was expected because they increase the bias values to reduce the variance values which is quite eviatble.\\n    2.The error not necessarily decreases monotically by just increasing the regularization parametre(may lead to underfit).\\n    3.Training did not take very long time idk y.\\n'"
      ]
     },
     "execution_count": 74,
     "metadata": {},
     "output_type": "execute_result"
    }
   ],
   "source": [
    "'''\n",
    "    for learning part you can obsereve that: \n",
    "    1.the residuals increases as we change the type of regression from normal to Lasso or Ridge and this was expected because they increase the bias values to reduce the variance values which is quite eviatble.\n",
    "    2.The error not necessarily decreases monotically by just increasing the regularization parametre(may lead to underfit).\n",
    "    3.Training did not take very long time idk y.\n",
    "'''\n"
   ]
  },
  {
   "cell_type": "code",
   "execution_count": 75,
   "metadata": {},
   "outputs": [],
   "source": [
    "from sklearn.metrics import r2_score"
   ]
  },
  {
   "cell_type": "code",
   "execution_count": 76,
   "metadata": {},
   "outputs": [
    {
     "name": "stdout",
     "output_type": "stream",
     "text": [
      "0.7112260057484903\n"
     ]
    }
   ],
   "source": [
    "print(r2_score(y_test,y))"
   ]
  },
  {
   "cell_type": "code",
   "execution_count": 77,
   "metadata": {},
   "outputs": [
    {
     "name": "stdout",
     "output_type": "stream",
     "text": [
      "0.7434997532004697\n"
     ]
    }
   ],
   "source": [
    "print(r2_score(y_train,predictionlr))"
   ]
  },
  {
   "cell_type": "code",
   "execution_count": null,
   "metadata": {},
   "outputs": [],
   "source": []
  },
  {
   "cell_type": "code",
   "execution_count": null,
   "metadata": {},
   "outputs": [],
   "source": []
  }
 ],
 "metadata": {
  "kernelspec": {
   "display_name": "Python 3",
   "language": "python",
   "name": "python3"
  },
  "language_info": {
   "codemirror_mode": {
    "name": "ipython",
    "version": 3
   },
   "file_extension": ".py",
   "mimetype": "text/x-python",
   "name": "python",
   "nbconvert_exporter": "python",
   "pygments_lexer": "ipython3",
   "version": "3.7.4"
  }
 },
 "nbformat": 4,
 "nbformat_minor": 2
}
